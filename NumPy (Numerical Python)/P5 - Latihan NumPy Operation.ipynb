{
 "cells": [
  {
   "cell_type": "markdown",
   "metadata": {},
   "source": [
    "## Soal Latihan"
   ]
  },
  {
   "cell_type": "markdown",
   "metadata": {},
   "source": [
    "1. Buat 1 array 2D, 1 array 1D\n",
    "2. Buat sebuah variabel baru dimana nilainya adalah pangkat dari array1 ** array2 yang dibuat sebelumnya\n",
    "3. Buat array ketiga yang berisikan bil. bulat random dari 1 hingga 10, dimensi bebas\n",
    "4. Buat sebuah variabel baru yang merupakan gabungan dari hasil perkalian array pada no 2 digabungkan dengan array no 3\n",
    "5. Coba ubah nilai dari final array dengan kondisi\n",
    "   - Jika ada nilai yang <10 maka diubah menjadi nilai yang < 10 dipangkatkan denggan 0\n",
    "   - Jika ada nilai yang >10 dan <20 maka bilainya tetap\n",
    "   - Jika  ada nilai yang >20 maka nilainya adalah akar dari nilai tersebut"
   ]
  },
  {
   "cell_type": "markdown",
   "metadata": {},
   "source": [
    "## Jawaban"
   ]
  },
  {
   "cell_type": "code",
   "execution_count": 1,
   "metadata": {},
   "outputs": [],
   "source": [
    "import numpy as np"
   ]
  },
  {
   "cell_type": "markdown",
   "metadata": {},
   "source": [
    "### Nomor 1"
   ]
  },
  {
   "cell_type": "code",
   "execution_count": 6,
   "metadata": {},
   "outputs": [
    {
     "name": "stdout",
     "output_type": "stream",
     "text": [
      "Array 2D :\n",
      "[[69  6 75]\n",
      " [33 46 21]\n",
      " [94 53 50]]\n",
      "\n",
      "Array 1D :\n",
      "[76 57 94]\n"
     ]
    }
   ],
   "source": [
    "# array 2D\n",
    "arr2D = np.random.randint(1,100,9).reshape(3,3)\n",
    "\n",
    "# array 1D\n",
    "arr1D = np.random.randint(1,100,3)\n",
    "\n",
    "print(f'Array 2D :\\n{arr2D}\\n')\n",
    "print(f'Array 1D :\\n{arr1D}')"
   ]
  },
  {
   "cell_type": "markdown",
   "metadata": {},
   "source": [
    "### Nomor 2"
   ]
  },
  {
   "cell_type": "code",
   "execution_count": 21,
   "metadata": {},
   "outputs": [
    {
     "data": {
      "text/plain": [
       "array([[-1254383535,           0,   795728073],\n",
       "       [ 1936363905,           0,  -504167159],\n",
       "       [          0,   -41042347,           0]], dtype=int32)"
      ]
     },
     "execution_count": 21,
     "metadata": {},
     "output_type": "execute_result"
    }
   ],
   "source": [
    "# 2. Buat sebuah variabel baru dimana nilainya adalah pangkat dari array1 ** array2 yang dibuat sebelumnya\n",
    "\n",
    "arr2 = arr2D ** arr1D\n",
    "arr2"
   ]
  },
  {
   "cell_type": "markdown",
   "metadata": {},
   "source": [
    "### Nomor 3"
   ]
  },
  {
   "cell_type": "code",
   "execution_count": 20,
   "metadata": {},
   "outputs": [
    {
     "data": {
      "text/plain": [
       "array([[1, 6, 9]])"
      ]
     },
     "execution_count": 20,
     "metadata": {},
     "output_type": "execute_result"
    }
   ],
   "source": [
    "# 3. Buat array ketiga yang berisikan bil. bulat random dari 1 hingga 10, dimensi bebas\n",
    "arr3 = np.random.randint(1,10,3).reshape(1,3)\n",
    "arr3"
   ]
  },
  {
   "cell_type": "markdown",
   "metadata": {},
   "source": [
    "### Nomor 4"
   ]
  },
  {
   "cell_type": "code",
   "execution_count": 12,
   "metadata": {},
   "outputs": [
    {
     "data": {
      "text/plain": [
       "array([[-1254383535,           0,   795728073],\n",
       "       [ 1936363905,           0,  -504167159],\n",
       "       [          0,   -41042347,           0],\n",
       "       [          6,           7,           1]])"
      ]
     },
     "execution_count": 12,
     "metadata": {},
     "output_type": "execute_result"
    }
   ],
   "source": [
    "# 4. Buat sebuah variabel baru yang merupakan gabungan dari hasil perkalian array pada no 2 digabungkan dengan array no 3\n",
    "arr4 = np.concatenate((arr2,arr3), axis=0)\n",
    "arr4"
   ]
  },
  {
   "cell_type": "markdown",
   "metadata": {},
   "source": [
    "### Nomor 5"
   ]
  },
  {
   "cell_type": "code",
   "execution_count": 25,
   "metadata": {},
   "outputs": [
    {
     "name": "stderr",
     "output_type": "stream",
     "text": [
      "C:\\Users\\User\\AppData\\Local\\Temp/ipykernel_152/565082800.py:6: RuntimeWarning: invalid value encountered in power\n",
      "  arr5 = np.where(arr4<10,(arr4**0),(np.where(arr4<20,arr4,arr4**0.5)))\n"
     ]
    },
    {
     "data": {
      "text/plain": [
       "array([[1.00000000e+00, 1.00000000e+00, 2.82086524e+04],\n",
       "       [4.40041351e+04, 1.00000000e+00, 1.00000000e+00],\n",
       "       [1.00000000e+00, 1.00000000e+00, 1.00000000e+00],\n",
       "       [1.00000000e+00, 1.00000000e+00, 1.00000000e+00]])"
      ]
     },
     "execution_count": 25,
     "metadata": {},
     "output_type": "execute_result"
    }
   ],
   "source": [
    "# 5. Coba ubah nilai dari final array dengan kondisi\n",
    "#    - Jika ada nilai yang <10 maka diubah menjadi nilai yang < 10 dipangkatkan denggan 0\n",
    "#    - Jika ada nilai yang >10 dan <20 maka bilainya tetap\n",
    "#    - Jika  ada nilai yang >20 maka nilainya adalah akar dari nilai tersebut\n",
    "\n",
    "arr5 = np.where(arr4<10,(arr4**0),(np.where(arr4<20,arr4,arr4**0.5)))\n",
    "arr5"
   ]
  }
 ],
 "metadata": {
  "kernelspec": {
   "display_name": "Python 3 (ipykernel)",
   "language": "python",
   "name": "python3"
  },
  "language_info": {
   "codemirror_mode": {
    "name": "ipython",
    "version": 3
   },
   "file_extension": ".py",
   "mimetype": "text/x-python",
   "name": "python",
   "nbconvert_exporter": "python",
   "pygments_lexer": "ipython3",
   "version": "3.9.7"
  }
 },
 "nbformat": 4,
 "nbformat_minor": 4
}
