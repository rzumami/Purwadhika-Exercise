{
 "cells": [
  {
   "cell_type": "markdown",
   "id": "519e4844",
   "metadata": {},
   "source": [
    "## Soal Latihan NumPy\n",
    "1. Buat sebuah array (zero/one) dengan panjang n, dimana nilai n ini diambil secara random antara 1 sampai 20\n",
    "2. Acaklah 4 nilai bilanga bulat dari 1 sampai 100\n",
    "3. Lakukan fancy indexing dari bilangan tersebut\n",
    "4. Buat matriks 2D dan hitunglah rata-rata dari baris ke-1 dan ke-3"
   ]
  },
  {
   "cell_type": "markdown",
   "id": "3dc57d7e",
   "metadata": {},
   "source": [
    "## Jawaban Soal"
   ]
  },
  {
   "cell_type": "code",
   "execution_count": 4,
   "id": "92598cbd",
   "metadata": {},
   "outputs": [],
   "source": [
    "import numpy as np"
   ]
  },
  {
   "cell_type": "markdown",
   "id": "54008540",
   "metadata": {},
   "source": [
    "### Nomor 1"
   ]
  },
  {
   "cell_type": "code",
   "execution_count": 9,
   "id": "85c53b45",
   "metadata": {},
   "outputs": [
    {
     "data": {
      "text/plain": [
       "array([1., 1., 1., 1., 1., 1., 1., 1., 1., 1.])"
      ]
     },
     "execution_count": 9,
     "metadata": {},
     "output_type": "execute_result"
    }
   ],
   "source": [
    "n = np.random.randint(1,21)\n",
    "ones = np.ones(n)\n",
    "ones"
   ]
  },
  {
   "cell_type": "markdown",
   "id": "daef40e2",
   "metadata": {},
   "source": [
    "### Nomor 2"
   ]
  },
  {
   "cell_type": "code",
   "execution_count": 16,
   "id": "c05a334a",
   "metadata": {},
   "outputs": [
    {
     "data": {
      "text/plain": [
       "array([37, 80, 41, 79])"
      ]
     },
     "execution_count": 16,
     "metadata": {},
     "output_type": "execute_result"
    }
   ],
   "source": [
    "numbers = np.random.randint(1,100,4)\n",
    "numbers"
   ]
  },
  {
   "cell_type": "markdown",
   "id": "c597475f",
   "metadata": {},
   "source": [
    "### Nomor 3"
   ]
  },
  {
   "cell_type": "code",
   "execution_count": 17,
   "id": "fc2c276d",
   "metadata": {
    "scrolled": true
   },
   "outputs": [
    {
     "data": {
      "text/plain": [
       "array([79, 80])"
      ]
     },
     "execution_count": 17,
     "metadata": {},
     "output_type": "execute_result"
    }
   ],
   "source": [
    "numbers[[3,1]]"
   ]
  },
  {
   "cell_type": "code",
   "execution_count": 26,
   "id": "60246b10",
   "metadata": {},
   "outputs": [
    {
     "data": {
      "text/plain": [
       "array([79, 37, 41])"
      ]
     },
     "execution_count": 26,
     "metadata": {},
     "output_type": "execute_result"
    }
   ],
   "source": [
    "numbers[[3,0,2]]"
   ]
  },
  {
   "cell_type": "markdown",
   "id": "d9e5e590",
   "metadata": {},
   "source": [
    "### Nomor 4"
   ]
  },
  {
   "cell_type": "code",
   "execution_count": 27,
   "id": "8d15163d",
   "metadata": {},
   "outputs": [
    {
     "name": "stdout",
     "output_type": "stream",
     "text": [
      "Masukkan jumlah baris :4\n",
      "Masukkan jumlah kolom :5\n",
      "Matriks 2D :\n",
      "[[83 31 80 11 48]\n",
      " [92 96 68 57 23]\n",
      " [ 6 68 42 65 93]\n",
      " [62 70  7 25 70]]\n",
      "\n",
      "Rata-rata baris pertama : 50.6\n",
      "Rata-rata baris ketiga : 54.8\n"
     ]
    }
   ],
   "source": [
    "n = int(input('Masukkan jumlah baris :'))\n",
    "m = int(input('Masukkan jumlah kolom :'))\n",
    "\n",
    "arr2D = np.random.randint(1,100,(n,m))\n",
    "\n",
    "print(f'Matriks 2D :\\n{arr2D}\\n')\n",
    "print(f'Rata-rata baris pertama : {arr2D[0].mean()}')\n",
    "print(f'Rata-rata baris ketiga : {arr2D[2].mean()}')"
   ]
  },
  {
   "cell_type": "code",
   "execution_count": null,
   "id": "6fad1a82",
   "metadata": {},
   "outputs": [],
   "source": []
  }
 ],
 "metadata": {
  "kernelspec": {
   "display_name": "Python 3 (ipykernel)",
   "language": "python",
   "name": "python3"
  },
  "language_info": {
   "codemirror_mode": {
    "name": "ipython",
    "version": 3
   },
   "file_extension": ".py",
   "mimetype": "text/x-python",
   "name": "python",
   "nbconvert_exporter": "python",
   "pygments_lexer": "ipython3",
   "version": "3.9.7"
  }
 },
 "nbformat": 4,
 "nbformat_minor": 5
}
