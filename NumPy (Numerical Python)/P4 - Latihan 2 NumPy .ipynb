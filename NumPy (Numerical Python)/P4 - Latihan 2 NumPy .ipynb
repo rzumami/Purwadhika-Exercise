{
 "cells": [
  {
   "cell_type": "markdown",
   "metadata": {},
   "source": [
    "## Soal Latihan 2\n",
    "1. Buatlah sebuah array dengan rentang nilai antara 1 hingga 100 yang terbagi rata sebanyak 50 bagian.\n",
    "2. Dari 50 bagian tersebut, buatlah sebuah matriks dengan ukuran nxm dimana nilai n<m. Ambil nilainya dari bilangan yang tersedia pada array sebelumnya\n",
    "3. Tampilkan matriks tersebut \n",
    "4. Setelah itu, matriks yang sudah terbentuk tadi dibuat dalam bentuk 1 dimensi lagi lalu tampilkan :\n",
    "    - Nilai maksimum dan minimumnya\n",
    "    - Pada indeks keberapa nilai maksimum dan minimum tersebut\n",
    "5. Jumlahkan antara nilai maksimum dan minimum tersebut\n",
    "6. Buat sebuah array dengan panjang array adalah inputan (diinput secara manual)\n",
    "7. Jika panjangnya genap, gantilah setengah di bagian akhir dari matriks tersebut angka 22, sedangkan jika panjangnya ganjil gantilah angkanya menjadi 23 dari indeks pertama hingga ((n+1)/2)\n",
    "8. Tampilkan matriksnya\n",
    "9. Tunjukkan bagian dari matriks yang nilainya >20\n",
    "10. Tampilkan nilai yang > 20"
   ]
  },
  {
   "cell_type": "markdown",
   "metadata": {},
   "source": [
    "## Jawaban Soal Latihan 2"
   ]
  },
  {
   "cell_type": "code",
   "execution_count": 33,
   "metadata": {},
   "outputs": [],
   "source": [
    "import numpy as np"
   ]
  },
  {
   "cell_type": "markdown",
   "metadata": {},
   "source": [
    "### Nomor 1"
   ]
  },
  {
   "cell_type": "code",
   "execution_count": 34,
   "metadata": {},
   "outputs": [
    {
     "data": {
      "text/plain": [
       "array([  1.        ,   3.02040816,   5.04081633,   7.06122449,\n",
       "         9.08163265,  11.10204082,  13.12244898,  15.14285714,\n",
       "        17.16326531,  19.18367347,  21.20408163,  23.2244898 ,\n",
       "        25.24489796,  27.26530612,  29.28571429,  31.30612245,\n",
       "        33.32653061,  35.34693878,  37.36734694,  39.3877551 ,\n",
       "        41.40816327,  43.42857143,  45.44897959,  47.46938776,\n",
       "        49.48979592,  51.51020408,  53.53061224,  55.55102041,\n",
       "        57.57142857,  59.59183673,  61.6122449 ,  63.63265306,\n",
       "        65.65306122,  67.67346939,  69.69387755,  71.71428571,\n",
       "        73.73469388,  75.75510204,  77.7755102 ,  79.79591837,\n",
       "        81.81632653,  83.83673469,  85.85714286,  87.87755102,\n",
       "        89.89795918,  91.91836735,  93.93877551,  95.95918367,\n",
       "        97.97959184, 100.        ])"
      ]
     },
     "execution_count": 34,
     "metadata": {},
     "output_type": "execute_result"
    }
   ],
   "source": [
    "nomor1 = np.linspace(1,100,50)\n",
    "nomor1"
   ]
  },
  {
   "cell_type": "markdown",
   "metadata": {},
   "source": [
    "### Nomor 2 & 3"
   ]
  },
  {
   "cell_type": "code",
   "execution_count": 35,
   "metadata": {},
   "outputs": [
    {
     "data": {
      "text/plain": [
       "array([[  1.        ,   3.02040816,   5.04081633,   7.06122449,\n",
       "          9.08163265,  11.10204082,  13.12244898,  15.14285714,\n",
       "         17.16326531,  19.18367347,  21.20408163,  23.2244898 ,\n",
       "         25.24489796,  27.26530612,  29.28571429,  31.30612245,\n",
       "         33.32653061,  35.34693878,  37.36734694,  39.3877551 ,\n",
       "         41.40816327,  43.42857143,  45.44897959,  47.46938776,\n",
       "         49.48979592],\n",
       "       [ 51.51020408,  53.53061224,  55.55102041,  57.57142857,\n",
       "         59.59183673,  61.6122449 ,  63.63265306,  65.65306122,\n",
       "         67.67346939,  69.69387755,  71.71428571,  73.73469388,\n",
       "         75.75510204,  77.7755102 ,  79.79591837,  81.81632653,\n",
       "         83.83673469,  85.85714286,  87.87755102,  89.89795918,\n",
       "         91.91836735,  93.93877551,  95.95918367,  97.97959184,\n",
       "        100.        ]])"
      ]
     },
     "execution_count": 35,
     "metadata": {},
     "output_type": "execute_result"
    }
   ],
   "source": [
    "nomor2 = nomor1.reshape(2,25)\n",
    "nomor3 = nomor2\n",
    "nomor3"
   ]
  },
  {
   "cell_type": "markdown",
   "metadata": {},
   "source": [
    "### Nomor4"
   ]
  },
  {
   "cell_type": "code",
   "execution_count": 36,
   "metadata": {},
   "outputs": [
    {
     "data": {
      "text/plain": [
       "array([  1.        ,   3.02040816,   5.04081633,   7.06122449,\n",
       "         9.08163265,  11.10204082,  13.12244898,  15.14285714,\n",
       "        17.16326531,  19.18367347,  21.20408163,  23.2244898 ,\n",
       "        25.24489796,  27.26530612,  29.28571429,  31.30612245,\n",
       "        33.32653061,  35.34693878,  37.36734694,  39.3877551 ,\n",
       "        41.40816327,  43.42857143,  45.44897959,  47.46938776,\n",
       "        49.48979592,  51.51020408,  53.53061224,  55.55102041,\n",
       "        57.57142857,  59.59183673,  61.6122449 ,  63.63265306,\n",
       "        65.65306122,  67.67346939,  69.69387755,  71.71428571,\n",
       "        73.73469388,  75.75510204,  77.7755102 ,  79.79591837,\n",
       "        81.81632653,  83.83673469,  85.85714286,  87.87755102,\n",
       "        89.89795918,  91.91836735,  93.93877551,  95.95918367,\n",
       "        97.97959184, 100.        ])"
      ]
     },
     "execution_count": 36,
     "metadata": {},
     "output_type": "execute_result"
    }
   ],
   "source": [
    "nomor4 = nomor2.reshape(50,)\n",
    "nomor4"
   ]
  },
  {
   "cell_type": "code",
   "execution_count": 43,
   "metadata": {},
   "outputs": [
    {
     "name": "stdout",
     "output_type": "stream",
     "text": [
      "Nilai maksimal dari array adalah : 100.0\n",
      "Nilai maksimal dari array array berapa pada indek ke-49\n",
      "Nilai maksimal dari array adalah : 1.0\n",
      "Nilai maksimal dari array array berapa pada indek ke-0\n"
     ]
    }
   ],
   "source": [
    "# nomor 4a & 4b\n",
    "\n",
    "print(f'Nilai maksimal dari array adalah : {nomor4.max()}')\n",
    "print(f'Nilai maksimal dari array array berapa pada indek ke-{nomor4.argmax()}')\n",
    "print(f'Nilai maksimal dari array adalah : {nomor4.min()}')\n",
    "print(f'Nilai maksimal dari array array berapa pada indek ke-{nomor4.argmin()}')"
   ]
  },
  {
   "cell_type": "markdown",
   "metadata": {},
   "source": [
    "### Nomor 5"
   ]
  },
  {
   "cell_type": "code",
   "execution_count": 16,
   "metadata": {
    "scrolled": true
   },
   "outputs": [
    {
     "data": {
      "text/plain": [
       "101.0"
      ]
     },
     "execution_count": 16,
     "metadata": {},
     "output_type": "execute_result"
    }
   ],
   "source": [
    "nomor5 = max(nomor4) + min(nomor4)\n",
    "nomor5"
   ]
  },
  {
   "cell_type": "markdown",
   "metadata": {},
   "source": [
    "### Nomor 6, 7 & 8"
   ]
  },
  {
   "cell_type": "code",
   "execution_count": 27,
   "metadata": {},
   "outputs": [
    {
     "name": "stdout",
     "output_type": "stream",
     "text": [
      "Masukkan jumlah n: 19\n"
     ]
    },
    {
     "data": {
      "text/plain": [
       "array([ 0,  1,  2,  3,  4,  5,  6,  7,  8,  9, 23, 23, 23, 23, 23, 23, 23,\n",
       "       23, 23])"
      ]
     },
     "execution_count": 27,
     "metadata": {},
     "output_type": "execute_result"
    }
   ],
   "source": [
    "# nomor 6\n",
    "n =int(input('Masukkan jumlah n: '))\n",
    "arr = np.arange(n)\n",
    "\n",
    "# nomor 7\n",
    "if n % 2 == 0:\n",
    "    arr[int(n/2):] = 22\n",
    "else :\n",
    "    arr[int((n+1)/2):] = 23\n",
    "\n",
    "# nomor8\n",
    "arr"
   ]
  },
  {
   "cell_type": "markdown",
   "metadata": {},
   "source": [
    "### Nomor 9"
   ]
  },
  {
   "cell_type": "code",
   "execution_count": 30,
   "metadata": {},
   "outputs": [
    {
     "data": {
      "text/plain": [
       "array([False, False, False, False, False, False, False, False, False,\n",
       "       False,  True,  True,  True,  True,  True,  True,  True,  True,\n",
       "        True])"
      ]
     },
     "execution_count": 30,
     "metadata": {},
     "output_type": "execute_result"
    }
   ],
   "source": [
    "nomor9 = arr > 20\n",
    "nomor9"
   ]
  },
  {
   "cell_type": "markdown",
   "metadata": {},
   "source": [
    "### Nomor 10"
   ]
  },
  {
   "cell_type": "code",
   "execution_count": 32,
   "metadata": {},
   "outputs": [
    {
     "data": {
      "text/plain": [
       "array([23, 23, 23, 23, 23, 23, 23, 23, 23])"
      ]
     },
     "execution_count": 32,
     "metadata": {},
     "output_type": "execute_result"
    }
   ],
   "source": [
    "nomor10 = arr[arr > 20]\n",
    "nomor10"
   ]
  }
 ],
 "metadata": {
  "kernelspec": {
   "display_name": "Python 3 (ipykernel)",
   "language": "python",
   "name": "python3"
  },
  "language_info": {
   "codemirror_mode": {
    "name": "ipython",
    "version": 3
   },
   "file_extension": ".py",
   "mimetype": "text/x-python",
   "name": "python",
   "nbconvert_exporter": "python",
   "pygments_lexer": "ipython3",
   "version": "3.9.7"
  }
 },
 "nbformat": 4,
 "nbformat_minor": 4
}
