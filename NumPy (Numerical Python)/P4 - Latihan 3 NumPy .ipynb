{
 "cells": [
  {
   "cell_type": "markdown",
   "metadata": {},
   "source": [
    "## Soal Latihan Numpy\n",
    "Buatlah sebuah menu, dengan ketentuan\n",
    "- Menu 1\n",
    "  - Buat sebuah array dengan panjang array adalah inputan\n",
    "  - Nilai dari array tersebut juga adalah inputan, sehingga nantinya akan menhinput array 1 persatu\n",
    "  - Reshape array tersebut ke dalam matriks dengan ukuran bebas (optional dalam bentuk inputan)\n",
    "- Menu 2\n",
    "  - Buatlah sebuah matriks 5x5 dari array bilangan random dengan distribusi normal\n",
    "  - Tampilkan nilai maksimalnya dan minimumnya\n",
    "  - Kemudian untuk row 1 dikalikan 4, row 3 dikalikan 3, row 5 dikalikan 2\n",
    "  - Tampilkan hasilnya\n",
    "- Menu 3\n",
    "  - Buatlah matriks 2x2\n",
    "  - Buat invers dari matriks tersebut\n",
    "- Menu 4\n",
    "  - Buatlah matriks 3x3\n",
    "  - Hitunglah determinan"
   ]
  },
  {
   "cell_type": "markdown",
   "metadata": {},
   "source": [
    "## Jawaban Soal "
   ]
  },
  {
   "cell_type": "code",
   "execution_count": 1,
   "metadata": {},
   "outputs": [],
   "source": [
    "import numpy as np"
   ]
  },
  {
   "cell_type": "markdown",
   "metadata": {},
   "source": [
    "### Menu 1"
   ]
  },
  {
   "cell_type": "code",
   "execution_count": 3,
   "metadata": {},
   "outputs": [
    {
     "name": "stdout",
     "output_type": "stream",
     "text": [
      "Masukkan panjang array : 6\n",
      "Masukkan angka : 45\n",
      "Masukkan angka : 36\n",
      "Masukkan angka : 72\n",
      "Masukkan angka : 18\n",
      "Masukkan angka : 90\n",
      "Masukkan angka : 54\n"
     ]
    },
    {
     "data": {
      "text/plain": [
       "array([45, 36, 72, 18, 90, 54])"
      ]
     },
     "execution_count": 3,
     "metadata": {},
     "output_type": "execute_result"
    }
   ],
   "source": [
    "# buat array\n",
    "\n",
    "n = int(input('Masukkan panjang array : '))\n",
    "list_angka= []\n",
    "for item in range(n):\n",
    "    x = int(input('Masukkan angka : '))\n",
    "    list_angka.append(x)\n",
    "arr = np.array(list_angka)\n",
    "arr"
   ]
  },
  {
   "cell_type": "code",
   "execution_count": 4,
   "metadata": {},
   "outputs": [
    {
     "name": "stdout",
     "output_type": "stream",
     "text": [
      "Masukkan banyak baris : 3\n",
      "Masukkan banyak kolom : 2\n"
     ]
    },
    {
     "data": {
      "text/plain": [
       "array([[45, 36],\n",
       "       [72, 18],\n",
       "       [90, 54]])"
      ]
     },
     "execution_count": 4,
     "metadata": {},
     "output_type": "execute_result"
    }
   ],
   "source": [
    "# reshape array\n",
    "\n",
    "n = int(input('Masukkan banyak baris : '))\n",
    "m = int(input('Masukkan banyak kolom : '))\n",
    "arr.reshape(n,m)"
   ]
  },
  {
   "cell_type": "markdown",
   "metadata": {},
   "source": [
    "### Menu 2"
   ]
  },
  {
   "cell_type": "code",
   "execution_count": 5,
   "metadata": {},
   "outputs": [
    {
     "data": {
      "text/plain": [
       "array([[ 0.08972184,  0.08139506, -0.4150788 ,  0.33867229,  0.16006113],\n",
       "       [-1.24945959,  1.0791434 , -0.48997016, -0.56727432, -0.93697616],\n",
       "       [ 0.27699604, -0.98108038, -0.285838  , -1.77784471, -1.5801961 ],\n",
       "       [ 0.15798119,  0.46513679, -0.7523442 ,  0.68098082, -0.02735877],\n",
       "       [ 0.88043747, -0.68562509, -0.39509362, -0.18680185, -0.82001008]])"
      ]
     },
     "execution_count": 5,
     "metadata": {},
     "output_type": "execute_result"
    }
   ],
   "source": [
    "# buat matrix \n",
    "\n",
    "arr2 = np.random.randn(5,5)\n",
    "arr2"
   ]
  },
  {
   "cell_type": "code",
   "execution_count": 16,
   "metadata": {
    "scrolled": false
   },
   "outputs": [
    {
     "name": "stdout",
     "output_type": "stream",
     "text": [
      "Nilai maksimal dari matriks adalah : 1.0791433965292725\n",
      "Nilai maksimal dari matriks adalah : -1.7778447068258305\n"
     ]
    }
   ],
   "source": [
    "print(f'Nilai maksimal dari matriks adalah : {arr2.max()}')\n",
    "print(f'Nilai maksimal dari matriks adalah : {arr2.min()}')"
   ]
  },
  {
   "cell_type": "code",
   "execution_count": 17,
   "metadata": {},
   "outputs": [
    {
     "data": {
      "text/plain": [
       "[[array([ 0.35888734,  0.32558025, -1.6603152 ,  1.35468917,  0.64024451])],\n",
       " [array([ 0.83098811, -2.94324115, -0.857514  , -5.33353412, -4.74058829])],\n",
       " [array([ 4.40218737, -3.42812544, -1.97546812, -0.93400927, -4.1000504 ])]]"
      ]
     },
     "execution_count": 17,
     "metadata": {},
     "output_type": "execute_result"
    }
   ],
   "source": [
    "# row1 x 4, row3 x 3, row5 x 2\n",
    "kali_arr2 = [[arr2[0] * 4],[arr2[2] * 3],[arr2[4] * 5]]\n",
    "\n",
    "# tampilkan\n",
    "kali_arr2"
   ]
  },
  {
   "cell_type": "markdown",
   "metadata": {},
   "source": [
    "### Menu 3"
   ]
  },
  {
   "cell_type": "code",
   "execution_count": 9,
   "metadata": {},
   "outputs": [
    {
     "data": {
      "text/plain": [
       "array([76, 87, 22, 64])"
      ]
     },
     "execution_count": 9,
     "metadata": {},
     "output_type": "execute_result"
    }
   ],
   "source": [
    "# buat array\n",
    "arr3 = np.random.randint(1,100,4)\n",
    "arr3"
   ]
  },
  {
   "cell_type": "code",
   "execution_count": 10,
   "metadata": {},
   "outputs": [
    {
     "data": {
      "text/plain": [
       "array([[76, 87],\n",
       "       [22, 64]])"
      ]
     },
     "execution_count": 10,
     "metadata": {},
     "output_type": "execute_result"
    }
   ],
   "source": [
    "# reshap array jadi 2x2\n",
    "arr3.reshape(2,2)"
   ]
  },
  {
   "cell_type": "code",
   "execution_count": 11,
   "metadata": {},
   "outputs": [
    {
     "data": {
      "text/plain": [
       "array([[ 0.02169492, -0.02949153],\n",
       "       [-0.00745763,  0.02576271]])"
      ]
     },
     "execution_count": 11,
     "metadata": {},
     "output_type": "execute_result"
    }
   ],
   "source": [
    "# invers arr3\n",
    "arr3_inv = np.linalg.inv(arr3.reshape(2,2))\n",
    "arr3_inv"
   ]
  },
  {
   "cell_type": "markdown",
   "metadata": {},
   "source": [
    "### Menu 4"
   ]
  },
  {
   "cell_type": "code",
   "execution_count": 12,
   "metadata": {},
   "outputs": [
    {
     "data": {
      "text/plain": [
       "array([66, 68, 92, 11,  5, 11,  5, 49, 21])"
      ]
     },
     "execution_count": 12,
     "metadata": {},
     "output_type": "execute_result"
    }
   ],
   "source": [
    "# buat array\n",
    "arr4 = np.random.randint(1,100,9)\n",
    "arr4"
   ]
  },
  {
   "cell_type": "code",
   "execution_count": 13,
   "metadata": {},
   "outputs": [
    {
     "data": {
      "text/plain": [
       "array([[66, 68, 92],\n",
       "       [11,  5, 11],\n",
       "       [ 5, 49, 21]])"
      ]
     },
     "execution_count": 13,
     "metadata": {},
     "output_type": "execute_result"
    }
   ],
   "source": [
    "# reshap array jadi 3x3\n",
    "arr4.reshape(3,3)"
   ]
  },
  {
   "cell_type": "code",
   "execution_count": 14,
   "metadata": {},
   "outputs": [
    {
     "data": {
      "text/plain": [
       "6675.999999999998"
      ]
     },
     "execution_count": 14,
     "metadata": {},
     "output_type": "execute_result"
    }
   ],
   "source": [
    "# determinan arr4\n",
    "arr4_det = np.linalg.det(arr4.reshape(3,3))\n",
    "arr4_det"
   ]
  }
 ],
 "metadata": {
  "kernelspec": {
   "display_name": "Python 3 (ipykernel)",
   "language": "python",
   "name": "python3"
  },
  "language_info": {
   "codemirror_mode": {
    "name": "ipython",
    "version": 3
   },
   "file_extension": ".py",
   "mimetype": "text/x-python",
   "name": "python",
   "nbconvert_exporter": "python",
   "pygments_lexer": "ipython3",
   "version": "3.9.7"
  }
 },
 "nbformat": 4,
 "nbformat_minor": 4
}
