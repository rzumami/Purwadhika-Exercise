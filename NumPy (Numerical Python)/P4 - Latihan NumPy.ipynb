{
 "cells": [
  {
   "cell_type": "markdown",
   "metadata": {},
   "source": [
    "## Soal Latihan\n",
    "1. Bisa/tidak dibuat array dari list yang isinya:\n",
    "   - float semua ?\n",
    "   - integer semua ?\n",
    "   - boolean semua ?\n",
    "   - float + integer ?\n",
    "   - string\n",
    "   - string float\n",
    "2. Coba buat matrix yang semua isinya berisikan angka dari hasil dari ((1/2 x 100 + 1.5) ^ 1/2)\n",
    "3. Kalikan hasil pada nomor 2 pada matrix identitas. Apakah hasilnya sama? Jika tidak Jelaskan kenapa ?\n",
    "4. Bangkitkan data random dari 0 sampai 1 sebanyak 100 yang terbentuk menjadi sebuah matrix namun bukan matri (nxn) melainkan (mxn)\n",
    "5. Apakah bisa dibangkitkan nilai random integer dari rentang 0.5 hingga 100 ? Jika iya coba lakukan\n",
    "6. Bangkitkan data integer sebanyak x (inputan) dari n (inputan) hingga m (inputan)"
   ]
  },
  {
   "cell_type": "markdown",
   "metadata": {},
   "source": [
    "## Jawaban Soal Latihan"
   ]
  },
  {
   "cell_type": "code",
   "execution_count": 1,
   "metadata": {},
   "outputs": [],
   "source": [
    "import numpy as np"
   ]
  },
  {
   "cell_type": "markdown",
   "metadata": {},
   "source": [
    "### Nomor 1"
   ]
  },
  {
   "cell_type": "code",
   "execution_count": 17,
   "metadata": {},
   "outputs": [
    {
     "data": {
      "text/plain": [
       "array([ 0.8,  0.9, 10.7, 12.6])"
      ]
     },
     "execution_count": 17,
     "metadata": {},
     "output_type": "execute_result"
    }
   ],
   "source": [
    "# Membuat array berisi float semua\n",
    "\n",
    "list_float = [0.8, 0.9, 10.7, 12.6]\n",
    "arr_float = np.array(list_float)\n",
    "arr_float"
   ]
  },
  {
   "cell_type": "code",
   "execution_count": 21,
   "metadata": {},
   "outputs": [
    {
     "data": {
      "text/plain": [
       "array([0.        , 0.55555556, 1.11111111, 1.66666667, 2.22222222,\n",
       "       2.77777778, 3.33333333, 3.88888889, 4.44444444, 5.        ])"
      ]
     },
     "execution_count": 21,
     "metadata": {},
     "output_type": "execute_result"
    }
   ],
   "source": [
    "np.linspace(0,5,10)"
   ]
  },
  {
   "cell_type": "code",
   "execution_count": 26,
   "metadata": {
    "scrolled": true
   },
   "outputs": [
    {
     "data": {
      "text/plain": [
       "array([45, 72, 36, 54, 81])"
      ]
     },
     "execution_count": 26,
     "metadata": {},
     "output_type": "execute_result"
    }
   ],
   "source": [
    "# Membuat array berisi integer semua\n",
    "\n",
    "list_int = [45,72,36,54,81]\n",
    "arr_int = np.array(list_int)\n",
    "arr_int"
   ]
  },
  {
   "cell_type": "code",
   "execution_count": 22,
   "metadata": {},
   "outputs": [
    {
     "data": {
      "text/plain": [
       "array([30, 16, 60, 77, 43])"
      ]
     },
     "execution_count": 22,
     "metadata": {},
     "output_type": "execute_result"
    }
   ],
   "source": [
    "np.random.randint(1,100,5)"
   ]
  },
  {
   "cell_type": "code",
   "execution_count": 23,
   "metadata": {},
   "outputs": [
    {
     "data": {
      "text/plain": [
       "array([ True, False,  True,  True,  True])"
      ]
     },
     "execution_count": 23,
     "metadata": {},
     "output_type": "execute_result"
    }
   ],
   "source": [
    "# Membuat array berisi boolean\n",
    "\n",
    "list_bool = [True, False, True, True, True]\n",
    "arr_bool = np.array(list_bool)\n",
    "arr_bool"
   ]
  },
  {
   "cell_type": "code",
   "execution_count": 36,
   "metadata": {},
   "outputs": [
    {
     "data": {
      "text/plain": [
       "array([ 0.8,  0.9, 10.7, 12.6, 45. , 72. , 36. , 54. , 81. ])"
      ]
     },
     "execution_count": 36,
     "metadata": {},
     "output_type": "execute_result"
    }
   ],
   "source": [
    "# Membuat array berisi float dan integer\n",
    "\n",
    "arr_float_int = np.array(list_float + list_int)               # array yang berisi float dan integer hasilnya akan bernilai float semua\n",
    "arr_float_int"
   ]
  },
  {
   "cell_type": "code",
   "execution_count": 35,
   "metadata": {},
   "outputs": [
    {
     "data": {
      "text/plain": [
       "array([100. ,   0.9,  54. ,  81. ,  30. ,  45.5,  53. ,  72. ,  85.5])"
      ]
     },
     "execution_count": 35,
     "metadata": {},
     "output_type": "execute_result"
    }
   ],
   "source": [
    "list_floint = [100, 0.90, 54, 81, 30, 45.5, 53, 72, 85.5]     # array yang berisi float dan integer hasilnya akan bernilai float semua\n",
    "arr_floint = np.array(list_floint)\n",
    "arr_floint"
   ]
  },
  {
   "cell_type": "code",
   "execution_count": 33,
   "metadata": {},
   "outputs": [
    {
     "data": {
      "text/plain": [
       "array(['apel', 'anggur', 'jeruk', 'melon'], dtype='<U6')"
      ]
     },
     "execution_count": 33,
     "metadata": {},
     "output_type": "execute_result"
    }
   ],
   "source": [
    "# Membuat matrix berisi string \n",
    "\n",
    "list_str = ['apel', 'anggur', 'jeruk', 'melon']\n",
    "arr_str = np.array(list_str)\n",
    "arr_str"
   ]
  },
  {
   "cell_type": "code",
   "execution_count": 34,
   "metadata": {},
   "outputs": [
    {
     "data": {
      "text/plain": [
       "array(['mangga', '0.63', '7.2', 'jambu'], dtype='<U32')"
      ]
     },
     "execution_count": 34,
     "metadata": {},
     "output_type": "execute_result"
    }
   ],
   "source": [
    "list_strflo = ['mangga', 0.63, 7.2, 'jambu']\n",
    "arr_strflo = np.array(list_strflo)\n",
    "arr_strflo"
   ]
  },
  {
   "cell_type": "markdown",
   "metadata": {},
   "source": [
    "Berdasarkan hasil percobaan di atas dapat diketahui jika array bisa dibuat dari list yang berisi :\n",
    "- float semua \n",
    "- integer semua \n",
    "- boolean semua \n",
    "- float + integer \n",
    "- string\n",
    "- string float"
   ]
  },
  {
   "cell_type": "markdown",
   "metadata": {},
   "source": [
    "### Nomor 2"
   ]
  },
  {
   "cell_type": "code",
   "execution_count": 37,
   "metadata": {},
   "outputs": [
    {
     "data": {
      "text/plain": [
       "array([[25.75, 25.75, 25.75, 25.75],\n",
       "       [25.75, 25.75, 25.75, 25.75],\n",
       "       [25.75, 25.75, 25.75, 25.75],\n",
       "       [25.75, 25.75, 25.75, 25.75]])"
      ]
     },
     "execution_count": 37,
     "metadata": {},
     "output_type": "execute_result"
    }
   ],
   "source": [
    "nomor2 = np.ones((4,4)) * np.array((1/2 * 100 + 1.5) ** 1/2)\n",
    "nomor2"
   ]
  },
  {
   "cell_type": "markdown",
   "metadata": {},
   "source": [
    "### Nomor 3"
   ]
  },
  {
   "cell_type": "code",
   "execution_count": 38,
   "metadata": {},
   "outputs": [
    {
     "data": {
      "text/plain": [
       "array([[25.75,  0.  ,  0.  ,  0.  ],\n",
       "       [ 0.  , 25.75,  0.  ,  0.  ],\n",
       "       [ 0.  ,  0.  , 25.75,  0.  ],\n",
       "       [ 0.  ,  0.  ,  0.  , 25.75]])"
      ]
     },
     "execution_count": 38,
     "metadata": {},
     "output_type": "execute_result"
    }
   ],
   "source": [
    "nomor3 = nomor2 * np.eye(4)\n",
    "nomor3"
   ]
  },
  {
   "cell_type": "markdown",
   "metadata": {},
   "source": [
    "Setelah matrix dari nomor2 dikalikan dengan matrik identitas maka hasilnya tidak sama. Karena matriks identitas adalah matriks bernilai 0 dengan determinan bernilai 1 sehingga apabila suatu matriks dikalikan matriks identitas maka determinan matriks tresebut akan bernilai tetap dan elemen selain determinan akan bernilai 0. Sehingga saat matriks nomor2 dikalikan dengan matriks identitas, maka hasiln nomor3 tidak sama seperti hasil nomor2."
   ]
  },
  {
   "cell_type": "markdown",
   "metadata": {},
   "source": [
    "### Nomor 4"
   ]
  },
  {
   "cell_type": "code",
   "execution_count": 39,
   "metadata": {},
   "outputs": [
    {
     "data": {
      "text/plain": [
       "array([[-0.10552379,  2.06821365,  1.12330192, -0.11198154,  2.48134184],\n",
       "       [ 0.7762877 ,  2.04751992, -0.24866766, -0.02925973,  0.48455383],\n",
       "       [ 0.68798699, -0.85056821,  1.73363603, -1.50916054,  0.24375145],\n",
       "       [-1.12214974,  0.51752897,  0.08413029,  1.09958079,  1.23256919],\n",
       "       [ 0.44019258,  0.91078904, -0.26315832,  0.49718787, -0.35183814],\n",
       "       [ 1.05313822, -0.32077622, -0.53916323,  0.09918225, -1.19690761],\n",
       "       [-0.93727245,  0.45568274,  0.74575997, -1.08108446, -0.49237832],\n",
       "       [-0.71213285, -0.16986283, -0.82879403, -1.68169619,  0.02057366],\n",
       "       [-0.04771843, -0.05024678,  0.21703551, -0.52911749,  0.25771305],\n",
       "       [-0.47710856, -0.97995611, -0.79971793, -1.56342465,  1.055284  ],\n",
       "       [ 0.59924811, -0.34323954,  0.2396443 ,  1.4265334 , -0.7110036 ],\n",
       "       [ 0.32789323,  0.79556907,  2.08565485,  0.05949655,  1.29847229],\n",
       "       [-1.90660617, -0.55603248,  1.08774958, -1.11362247,  0.30630623],\n",
       "       [ 0.3691262 , -0.25145043,  0.00296026,  0.58888787,  1.25826232],\n",
       "       [-1.98365085,  0.58225356,  1.04400838,  0.32955891,  0.29880637],\n",
       "       [ 0.24495908,  1.84263914, -0.05573464,  0.33971562, -1.56941958],\n",
       "       [-0.0599149 , -0.44191601,  0.39004222,  0.79997261, -2.05264079],\n",
       "       [ 1.31096893,  0.30174427, -0.71023294, -1.36542977, -1.01498445],\n",
       "       [-0.16075639,  0.35163601,  0.23585098,  0.40656926, -0.10221196],\n",
       "       [-2.38095986, -2.37718076,  0.91834292, -0.11101894, -0.4391972 ]])"
      ]
     },
     "execution_count": 39,
     "metadata": {},
     "output_type": "execute_result"
    }
   ],
   "source": [
    "nomor4 = np.random.randn(20,5)\n",
    "nomor4"
   ]
  },
  {
   "cell_type": "markdown",
   "metadata": {},
   "source": [
    "### Nomor 5"
   ]
  },
  {
   "cell_type": "code",
   "execution_count": 40,
   "metadata": {},
   "outputs": [
    {
     "data": {
      "text/plain": [
       "22"
      ]
     },
     "execution_count": 40,
     "metadata": {},
     "output_type": "execute_result"
    }
   ],
   "source": [
    "nomor5 = np.random.randint(0.5,100)\n",
    "nomor5"
   ]
  },
  {
   "cell_type": "markdown",
   "metadata": {},
   "source": [
    "### Nomor 6"
   ]
  },
  {
   "cell_type": "code",
   "execution_count": 41,
   "metadata": {},
   "outputs": [
    {
     "name": "stdout",
     "output_type": "stream",
     "text": [
      "Masukkan batas bawah : 1\n",
      "Masukkan batas atas : 100\n",
      "Masukkan banyak data yang ingin dibangkitkan : 50\n"
     ]
    },
    {
     "data": {
      "text/plain": [
       "array([31, 61, 58, 56, 87, 40,  7, 29, 81, 79,  7, 92, 80, 48,  1, 21, 64,\n",
       "       65, 83, 69, 85, 92,  2, 53, 79, 19, 75, 12, 46, 60, 14, 27, 72, 60,\n",
       "       44, 92, 67, 19, 51, 42, 89, 52, 57, 20, 24,  5, 21, 95, 68, 98])"
      ]
     },
     "execution_count": 41,
     "metadata": {},
     "output_type": "execute_result"
    }
   ],
   "source": [
    "n = int(input('Masukkan batas bawah : '))\n",
    "m = int(input('Masukkan batas atas : '))\n",
    "x = int(input('Masukkan banyak data yang ingin dibangkitkan : '))\n",
    "nomor6= np.random.randint(n,m,x)\n",
    "nomor6"
   ]
  }
 ],
 "metadata": {
  "kernelspec": {
   "display_name": "Python 3 (ipykernel)",
   "language": "python",
   "name": "python3"
  },
  "language_info": {
   "codemirror_mode": {
    "name": "ipython",
    "version": 3
   },
   "file_extension": ".py",
   "mimetype": "text/x-python",
   "name": "python",
   "nbconvert_exporter": "python",
   "pygments_lexer": "ipython3",
   "version": "3.9.7"
  }
 },
 "nbformat": 4,
 "nbformat_minor": 4
}
