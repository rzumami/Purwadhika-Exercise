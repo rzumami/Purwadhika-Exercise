{
 "cells": [
  {
   "cell_type": "markdown",
   "metadata": {},
   "source": [
    "## Soal Latihan 1"
   ]
  },
  {
   "cell_type": "markdown",
   "metadata": {},
   "source": [
    "1. Buatalh sebuah array yang berdimensi nxn dimana dimensi tersebut merupakan inputan\n",
    "2. Dari array tersebut, coba ubah dimensi array tersebut ke bentuk dimesni lain\n",
    "3. Tampilkan setiap elemen dari array yang dibuat sebelumnya itu yang memiliki nilai lebih besar dari 1/2 nilai elemen maksimumnya\n",
    "4. Buat array baru yang merupakan hasil perkalian dari elemen array sebelumnya"
   ]
  },
  {
   "cell_type": "markdown",
   "metadata": {},
   "source": [
    "## Jawaban Soal Latihan 1"
   ]
  },
  {
   "cell_type": "code",
   "execution_count": 1,
   "metadata": {},
   "outputs": [],
   "source": [
    "import numpy as np"
   ]
  },
  {
   "cell_type": "markdown",
   "metadata": {},
   "source": [
    "### Nomor 1"
   ]
  },
  {
   "cell_type": "code",
   "execution_count": 24,
   "metadata": {},
   "outputs": [
    {
     "name": "stdout",
     "output_type": "stream",
     "text": [
      "Masukkan nilai n : 4\n",
      "Masukkan nilai m : 5\n"
     ]
    },
    {
     "data": {
      "text/plain": [
       "array([[21,  3, 87, 59, 12],\n",
       "       [93, 65, 89, 16, 60],\n",
       "       [13, 86, 27, 25, 22],\n",
       "       [89, 85, 97, 42, 88]])"
      ]
     },
     "execution_count": 24,
     "metadata": {},
     "output_type": "execute_result"
    }
   ],
   "source": [
    "n = int(input('Masukkan nilai n : '))\n",
    "m = int(input('Masukkan nilai m : '))\n",
    "nomor1 = np.random.randint(1,100,(n,m))\n",
    "nomor1"
   ]
  },
  {
   "cell_type": "markdown",
   "metadata": {},
   "source": [
    "### Nomor 2"
   ]
  },
  {
   "cell_type": "code",
   "execution_count": 25,
   "metadata": {},
   "outputs": [
    {
     "name": "stdout",
     "output_type": "stream",
     "text": [
      "Masukkan nilai n : 5\n",
      "Masukkan nilai m : 4\n"
     ]
    },
    {
     "data": {
      "text/plain": [
       "array([[21,  3, 87, 59],\n",
       "       [12, 93, 65, 89],\n",
       "       [16, 60, 13, 86],\n",
       "       [27, 25, 22, 89],\n",
       "       [85, 97, 42, 88]])"
      ]
     },
     "execution_count": 25,
     "metadata": {},
     "output_type": "execute_result"
    }
   ],
   "source": [
    "n = int(input('Masukkan nilai n : '))\n",
    "m = int(input('Masukkan nilai m : '))\n",
    "nomor2 = nomor1.reshape(n,m)\n",
    "nomor2"
   ]
  },
  {
   "cell_type": "markdown",
   "metadata": {},
   "source": [
    "### Nomor 3"
   ]
  },
  {
   "cell_type": "code",
   "execution_count": 26,
   "metadata": {},
   "outputs": [
    {
     "data": {
      "text/plain": [
       "array([87, 59, 93, 65, 89, 60, 86, 89, 85, 97, 88])"
      ]
     },
     "execution_count": 26,
     "metadata": {},
     "output_type": "execute_result"
    }
   ],
   "source": [
    "nomor3 = nomor2[nomor2 > nomor2.max()/2]\n",
    "nomor3"
   ]
  },
  {
   "cell_type": "markdown",
   "metadata": {},
   "source": [
    "### Nomor 4"
   ]
  },
  {
   "cell_type": "code",
   "execution_count": 22,
   "metadata": {},
   "outputs": [
    {
     "data": {
      "text/plain": [
       "array([[0.17605343, 0.16298573, 0.17088718],\n",
       "       [0.00366337, 0.34860575, 0.02831221]])"
      ]
     },
     "execution_count": 22,
     "metadata": {},
     "output_type": "execute_result"
    }
   ],
   "source": [
    "# Buat array baru yang merupakan hasil perkalian dari elemen array sebelumnya\n",
    "\n",
    "nomor5 = nomor2[2:4,:] * nomor1[1:3,1:]\n",
    "nomor5"
   ]
  }
 ],
 "metadata": {
  "kernelspec": {
   "display_name": "Python 3 (ipykernel)",
   "language": "python",
   "name": "python3"
  },
  "language_info": {
   "codemirror_mode": {
    "name": "ipython",
    "version": 3
   },
   "file_extension": ".py",
   "mimetype": "text/x-python",
   "name": "python",
   "nbconvert_exporter": "python",
   "pygments_lexer": "ipython3",
   "version": "3.9.7"
  }
 },
 "nbformat": 4,
 "nbformat_minor": 4
}
